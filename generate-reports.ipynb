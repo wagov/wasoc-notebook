{
 "cells": [
  {
   "cell_type": "code",
   "execution_count": 1,
   "id": "8595eb5a-f9fc-45fc-9cae-1b8d042a7993",
   "metadata": {},
   "outputs": [],
   "source": [
    "from subprocess import run, Popen\n",
    "from pathlib import Path\n",
    "import pandas as pd\n",
    "import json, os\n",
    "from inspect import cleandoc\n",
    "\n",
    "agencies = pd.read_csv(Path(\"agencies.csv\").open()).agency.unique()\n",
    "agencymapping = pd.read_csv(Path(\"mappings.csv\").open())"
   ]
  },
  {
   "cell_type": "code",
   "execution_count": null,
   "id": "c1a58429-93e8-4394-b31d-718123411b27",
   "metadata": {},
   "outputs": [],
   "source": [
    "report_notebooks = Path(\".\").glob(\"report-*.ipynb\")\n",
    "processes = []\n",
    "for report in report_notebooks:\n",
    "    for agency in agencies:\n",
    "        agency_data = agencymapping[agencymapping.Agency_Short.str.contains(agency, case=False)]\n",
    "        agency_name = agency_data.SearchKey.max()\n",
    "        workdir = Path(\"reports\") / agency # Standard dir for notebook to output files into\n",
    "        workdir.mkdir(exist_ok=True)\n",
    "        nbfile = workdir / report.name.replace(\"report-\",\"\")\n",
    "        nbfile.write_text(report.read_text())\n",
    "        report_env = os.environ.copy()\n",
    "        report_env[\"agency\"] = agency\n",
    "        report_env[\"agency_name\"] = agency_name\n",
    "        report_env[\"report_date\"] = \"29 March 2022\"\n",
    "        processes.append(Popen([\"jupyter\", \"nbconvert\", nbfile.name, \"--to\", \"html\", \"--execute\", \"--no-prompt\", \"--no-input\"], cwd=workdir, env=report_env))\n",
    "        if len(processes) >= 4: # run 4 exports in parallel\n",
    "            exitcodes = [p.wait() for p in processes]\n",
    "            processes = []\n",
    "\n",
    "exitcodes = [p.wait() for p in processes]"
   ]
  }
 ],
 "metadata": {
  "kernelspec": {
   "display_name": "Python 3 (ipykernel)",
   "language": "python",
   "name": "python3"
  },
  "language_info": {
   "codemirror_mode": {
    "name": "ipython",
    "version": 3
   },
   "file_extension": ".py",
   "mimetype": "text/x-python",
   "name": "python",
   "nbconvert_exporter": "python",
   "pygments_lexer": "ipython3",
   "version": "3.9.7"
  }
 },
 "nbformat": 4,
 "nbformat_minor": 5
}
